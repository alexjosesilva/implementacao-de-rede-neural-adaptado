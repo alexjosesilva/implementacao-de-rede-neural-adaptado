{
  "nbformat": 4,
  "nbformat_minor": 0,
  "metadata": {
    "colab": {
      "provenance": [],
      "include_colab_link": true
    },
    "kernelspec": {
      "name": "python3",
      "display_name": "Python 3"
    },
    "language_info": {
      "name": "python"
    }
  },
  "cells": [
    {
      "cell_type": "markdown",
      "metadata": {
        "id": "view-in-github",
        "colab_type": "text"
      },
      "source": [
        "<a href=\"https://colab.research.google.com/github/alexjosesilva/implementacao-de-rede-neural-adaptado/blob/main/Projeto_final_Implementa%C3%A7%C3%A3o_de_Rede_Neural_.ipynb\" target=\"_parent\"><img src=\"https://colab.research.google.com/assets/colab-badge.svg\" alt=\"Open In Colab\"/></a>"
      ]
    },
    {
      "cell_type": "code",
      "execution_count": null,
      "metadata": {
        "id": "GA6CPSkVlg76"
      },
      "outputs": [],
      "source": []
    },
    {
      "cell_type": "markdown",
      "source": [
        "**Projeto Final - Implementação de Rede Neural**\n",
        "\n",
        "Equipe:\n",
        "1.   Alex José Silva\n",
        "\n",
        "\n",
        "Gera:\n",
        " - métricas no console\n",
        " - comparação com baseline do exemplo original\n",
        " - gráfico da fronteira de decisão (para datasets 2D)\n",
        " - arquivo results.json com os números\n",
        "\n"
      ],
      "metadata": {
        "id": "-oSkdkVTlmiY"
      }
    },
    {
      "cell_type": "code",
      "source": [
        "import argparse\n",
        "import json\n",
        "from pathlib import Path\n",
        "\n",
        "import numpy as np\n",
        "import matplotlib.pyplot as plt\n",
        "from sklearn import datasets\n",
        "from sklearn.model_selection import train_test_split, StratifiedKFold\n",
        "from sklearn.preprocessing import StandardScaler\n",
        "from sklearn.metrics import accuracy_score, confusion_matrix, classification_report\n",
        "\n",
        "from keras.models import Sequential\n",
        "from keras.layers import Dense\n",
        "from keras.optimizers import SGD, Adam"
      ],
      "metadata": {
        "id": "ygKbOdOvpuFk"
      },
      "execution_count": null,
      "outputs": []
    },
    {
      "cell_type": "code",
      "source": [
        "ACTIVATIONS = {\"relu\": \"relu\", \"sigmoid\": \"sigmoid\", \"tanh\": \"tanh\", \"elu\": \"elu\", \"selu\": \"selu\", \"linear\": \"linear\"}"
      ],
      "metadata": {
        "id": "YoIHgrqqpAje"
      },
      "execution_count": null,
      "outputs": []
    },
    {
      "cell_type": "code",
      "source": [
        "def build_model(input_dim: int, layers: list[int], activations: list[str], output_activation: str = \"sigmoid\", lr: float = 0.001, optimizer: str = \"adam\"):\n",
        "    model = Sequential()\n",
        "    if not layers:\n",
        "        raise ValueError(\"Forneça ao menos uma camada oculta em --layers\")\n",
        "    if len(activations) == 1 and len(layers) > 1:\n",
        "        activations = activations * len(layers)\n",
        "    if len(activations) != len(layers):\n",
        "        raise ValueError(\"Número de funções de ativação deve bater com número de camadas ocultas\")\n",
        "\n",
        "    # Primeira camada com input_dim\n",
        "    model.add(Dense(layers[0], input_dim=input_dim, activation=ACTIVATIONS.get(activations[0], activations[0])))\n",
        "    # Demais camadas\n",
        "    for units, act in zip(layers[1:], activations[1:]):\n",
        "        model.add(Dense(units, activation=ACTIVATIONS.get(act, act)))\n",
        "    # Saída binária\n",
        "    model.add(Dense(1, activation=output_activation))\n",
        "\n",
        "    if optimizer.lower() == \"sgd\":\n",
        "        opt = SGD(learning_rate=lr)\n",
        "    else:\n",
        "        opt = Adam(learning_rate=lr)\n",
        "    model.compile(loss=\"binary_crossentropy\", optimizer=opt, metrics=[\"accuracy\"])  # melhor que MSE p/ classificação\n",
        "    return model"
      ],
      "metadata": {
        "id": "bi27zJLLqbRz"
      },
      "execution_count": null,
      "outputs": []
    },
    {
      "cell_type": "code",
      "source": [
        "def load_dataset(name: str, n_samples: int, noise: float, random_state: int = 42):\n",
        "    name = name.lower()\n",
        "    if name == \"moons\":\n",
        "        X, y = datasets.make_moons(n_samples=n_samples, noise=noise, random_state=random_state)\n",
        "        two_d = True\n",
        "    elif name == \"circles\":\n",
        "        X, y = datasets.make_circles(n_samples=n_samples, noise=noise, factor=0.5, random_state=random_state)\n",
        "        two_d = True\n",
        "    elif name == \"iris\":\n",
        "        iris = datasets.load_iris()\n",
        "        # binariza: classe 0 vs não-0 só para manter saída sigmoide\n",
        "        y = (iris.target != 0).astype(int)\n",
        "        # usa duas features p/ plot 2D\n",
        "        X = iris.data[:, [2, 3]]  # petal length, petal width\n",
        "        two_d = True\n",
        "    else:\n",
        "        raise ValueError(\"Dataset inválido. Use: moons | circles | iris\")\n",
        "    return X.astype(np.float32), y.astype(int), two_d"
      ],
      "metadata": {
        "id": "YT6zonWoqd6j"
      },
      "execution_count": null,
      "outputs": []
    },
    {
      "cell_type": "code",
      "source": [
        "# This cell is no longer needed as plot_decision_boundary is moved to the main cell."
      ],
      "metadata": {
        "id": "PI_qwZxFqgnM"
      },
      "execution_count": null,
      "outputs": []
    },
    {
      "cell_type": "code",
      "source": [
        "def run_baseline(X, y, lr: float, epochs: int, batch_size: int, random_state: int = 42):\n",
        "    # Replica (aprox.) a cabeça do exemplo4.py: Dense(5,relu)->Dense(5,tanh)->Dense(1,sigmoid), SGD lr=0.1, MSE\n",
        "    scaler = StandardScaler()\n",
        "    Xs = scaler.fit_transform(X)\n",
        "    X_train, X_test, y_train, y_test = train_test_split(Xs, y, test_size=0.3, stratify=y, random_state=random_state)\n",
        "\n",
        "    baseline = Sequential()\n",
        "    baseline.add(Dense(5, input_dim=X.shape[1], activation='relu'))\n",
        "    baseline.add(Dense(5, activation='tanh'))\n",
        "    baseline.add(Dense(1, activation='sigmoid'))\n",
        "\n",
        "    opt = SGD(learning_rate=lr)\n",
        "    baseline.compile(loss='mean_squared_error', optimizer=opt, metrics=['accuracy'])\n",
        "    baseline.fit(X_train, y_train, epochs=epochs, verbose=False, batch_size=batch_size)\n",
        "    y_pred = (baseline.predict(X_test, verbose=0).ravel() > 0.5).astype(int)\n",
        "    acc = accuracy_score(y_test, y_pred)\n",
        "    cm = confusion_matrix(y_test, y_pred)\n",
        "    return acc, cm"
      ],
      "metadata": {
        "id": "U24py09Pqi1s"
      },
      "execution_count": null,
      "outputs": []
    },
    {
      "cell_type": "code",
      "source": [
        "import argparse\n",
        "from pathlib import Path\n",
        "\n",
        "import numpy as np\n",
        "import matplotlib.pyplot as plt\n",
        "from sklearn import datasets\n",
        "from sklearn.model_selection import train_test_split, StratifiedKFold\n",
        "from sklearn.preprocessing import StandardScaler\n",
        "from sklearn.metrics import accuracy_score, confusion_matrix, classification_report\n",
        "\n",
        "from keras.models import Sequential\n",
        "from keras.layers import Dense\n",
        "from keras.optimizers import SGD, Adam\n",
        "\n",
        "\n",
        "def plot_decision_boundary(model, X, y, title: str, outpath: Path):\n",
        "    # Apenas para dados 2D\n",
        "    x_min, x_max = X[:, 0].min() - .5, X[:, 0].max() + .5\n",
        "    y_min, y_max = X[:, 1].min() - .5, X[:, 1].max() + .5\n",
        "    xx, yy = np.meshgrid(np.linspace(x_min, x_max, 300), np.linspace(y_min, y_max, 300))\n",
        "    grid = np.c_[xx.ravel(), yy.ravel()]\n",
        "    Z = model.predict(grid, verbose=0)\n",
        "    Z = (Z.ravel() > 0.5).astype(int)\n",
        "    Z = Z.reshape(xx.shape)\n",
        "\n",
        "    plt.figure(figsize=(6, 5))\n",
        "    plt.contourf(xx, yy, Z, alpha=0.3)\n",
        "    plt.scatter(X[:, 0], X[:, 1], c=y, edgecolor=\"k\")\n",
        "    plt.title(title)\n",
        "    plt.tight_layout()\n",
        "    plt.savefig(outpath)\n",
        "    plt.close()\n",
        "\n",
        "def main():\n",
        "    p = argparse.ArgumentParser()\n",
        "    p.add_argument('--dataset', default='moons', choices=['moons', 'circles', 'iris'])\n",
        "    p.add_argument('--n-samples', type=int, default=300)\n",
        "    p.add_argument('--noise', type=float, default=0.2)\n",
        "    p.add_argument('--layers', type=int, nargs='+', default=[8, 8])\n",
        "    p.add_argument('--activations', nargs='+', default=['relu', 'relu'])\n",
        "    p.add_argument('--epochs', type=int, default=200)\n",
        "    p.add_argument('--batch-size', type=int, default=16)\n",
        "    p.add_argument('--lr', type=float, default=0.01)\n",
        "    p.add_argument('--optimizer', default='adam', choices=['adam', 'sgd'])\n",
        "    p.add_argument('--cv', type=int, default=0, help='Número de folds para cross-validation (0 = holdout)')\n",
        "    p.add_argument('--seed', type=int, default=42)\n",
        "    # Use parse_known_args() to ignore the arguments passed by Colab\n",
        "    args, unknown = p.parse_known_args()\n",
        "\n",
        "\n",
        "    outdir = Path('outputs')\n",
        "    outdir.mkdir(exist_ok=True)\n",
        "\n",
        "    X, y, two_d = load_dataset(args.dataset, args.n_samples, args.noise, args.seed)\n",
        "\n",
        "    # Escalonamento\n",
        "    scaler = StandardScaler()\n",
        "    Xs = scaler.fit_transform(X)\n",
        "\n",
        "    results = {\"dataset\": args.dataset, \"n_samples\": int(len(X)), \"noise\": float(args.noise)}\n",
        "\n",
        "    # ------------------------------\n",
        "    # Baseline (do exemplo original)\n",
        "    # ------------------------------\n",
        "    base_acc, base_cm = run_baseline(X, y, lr=0.1, epochs=100, batch_size=5)  # fiel ao exemplo\n",
        "    results[\"baseline_acc\"] = float(base_acc)\n",
        "    results[\"baseline_cm\"] = base_cm.tolist()\n",
        "\n",
        "    # ------------------------------\n",
        "    # Modelo customizado\n",
        "    # ------------------------------\n",
        "    if args.cv and args.cv > 1:\n",
        "        skf = StratifiedKFold(n_splits=args.cv, shuffle=True, random_state=args.seed)\n",
        "        accs = []\n",
        "        for fold, (tr, te) in enumerate(skf.split(Xs, y), start=1):\n",
        "            model = build_model(Xs.shape[1], args.layers, args.activations, lr=args.lr, optimizer=args.optimizer)\n",
        "            model.fit(Xs[tr], y[tr], epochs=args.epochs, verbose=False, batch_size=args.batch_size)\n",
        "            yhat = (model.predict(Xs[te], verbose=0).ravel() > 0.5).astype(int)\n",
        "            accs.append(accuracy_score(y[te], yhat))\n",
        "        acc = float(np.mean(accs))\n",
        "        results[\"custom_acc_cv_mean\"] = acc\n",
        "        print(f\"Acurácia média (CV {args.cv}): {acc:.4f}\")\n",
        "    else:\n",
        "        X_train, X_test, y_train, y_test = train_test_split(Xs, y, test_size=0.3, stratify=y, random_state=args.seed)\n",
        "        model = build_model(Xs.shape[1], args.layers, args.activations, lr=args.lr, optimizer=args.optimizer)\n",
        "        model.fit(X_train, y_train, epochs=args.epochs, verbose=False, batch_size=args.batch_size)\n",
        "        yhat = (model.predict(X_test, verbose=0).ravel() > 0.5).astype(int)\n",
        "        acc = accuracy_score(y_test, yhat)\n",
        "        cm = confusion_matrix(y_test, yhat)\n",
        "        print(classification_report(y_test, yhat, digits=4))\n",
        "        results[\"custom_acc\"] = float(acc)\n",
        "        results[\"custom_cm\"] = cm.tolist()\n",
        "        print(f\"Acurácia (custom): {acc:.4f}\")\n",
        "\n",
        "        # Fronteira de decisão (quando possível)\n",
        "        if two_d:\n",
        "            grid_title = f\"{args.dataset} | camadas {args.layers} | acts {args.activations}\"\n",
        "            plot_decision_boundary(model, scaler.transform(X), y, grid_title, outdir / f\"decision_{args.dataset}.png\")\n",
        "\n",
        "    # Comparação\n",
        "    if \"custom_acc\" in results:\n",
        "        delta = results[\"custom_acc\"] - results[\"baseline_acc\"]\n",
        "        print(f\"\\nComparação vs baseline: Δacc = {delta:+.4f}\")\n",
        "        results[\"delta_acc_vs_baseline\"] = float(delta)\n",
        "    elif \"custom_acc_cv_mean\" in results:\n",
        "        delta = results[\"custom_acc_cv_mean\"] - results[\"baseline_acc\"]\n",
        "        print(f\"\\nComparação vs baseline (CV): Δacc = {delta:+.4f}\")\n",
        "        results[\"delta_acc_vs_baseline\"] = float(delta)\n",
        "\n",
        "    # Persistir resultados\n",
        "    with open(outdir / 'results.json', 'w') as f:\n",
        "        json.dump(results, f, indent=2)\n",
        "    print(\"Resultados salvos em outputs/results.json\")\n",
        "\n",
        "if __name__ == '__main__':\n",
        "    main()"
      ],
      "metadata": {
        "colab": {
          "base_uri": "https://localhost:8080/"
        },
        "id": "bmgJTFzDqk92",
        "outputId": "0603c433-e782-47a1-d69b-cb4aa8474cbf"
      },
      "execution_count": null,
      "outputs": [
        {
          "output_type": "stream",
          "name": "stderr",
          "text": [
            "/usr/local/lib/python3.11/dist-packages/keras/src/layers/core/dense.py:93: UserWarning: Do not pass an `input_shape`/`input_dim` argument to a layer. When using Sequential models, prefer using an `Input(shape)` object as the first layer in the model instead.\n",
            "  super().__init__(activity_regularizer=activity_regularizer, **kwargs)\n",
            "WARNING:tensorflow:5 out of the last 7 calls to <function TensorFlowTrainer.make_predict_function.<locals>.one_step_on_data_distributed at 0x7d90275a7c40> triggered tf.function retracing. Tracing is expensive and the excessive number of tracings could be due to (1) creating @tf.function repeatedly in a loop, (2) passing tensors with different shapes, (3) passing Python objects instead of tensors. For (1), please define your @tf.function outside of the loop. For (2), @tf.function has reduce_retracing=True option that can avoid unnecessary retracing. For (3), please refer to https://www.tensorflow.org/guide/function#controlling_retracing and https://www.tensorflow.org/api_docs/python/tf/function for  more details.\n",
            "WARNING:tensorflow:6 out of the last 9 calls to <function TensorFlowTrainer.make_predict_function.<locals>.one_step_on_data_distributed at 0x7d90275a7c40> triggered tf.function retracing. Tracing is expensive and the excessive number of tracings could be due to (1) creating @tf.function repeatedly in a loop, (2) passing tensors with different shapes, (3) passing Python objects instead of tensors. For (1), please define your @tf.function outside of the loop. For (2), @tf.function has reduce_retracing=True option that can avoid unnecessary retracing. For (3), please refer to https://www.tensorflow.org/guide/function#controlling_retracing and https://www.tensorflow.org/api_docs/python/tf/function for  more details.\n",
            "/usr/local/lib/python3.11/dist-packages/keras/src/layers/core/dense.py:93: UserWarning: Do not pass an `input_shape`/`input_dim` argument to a layer. When using Sequential models, prefer using an `Input(shape)` object as the first layer in the model instead.\n",
            "  super().__init__(activity_regularizer=activity_regularizer, **kwargs)\n"
          ]
        },
        {
          "output_type": "stream",
          "name": "stdout",
          "text": [
            "              precision    recall  f1-score   support\n",
            "\n",
            "           0     1.0000    0.9111    0.9535        45\n",
            "           1     0.9184    1.0000    0.9574        45\n",
            "\n",
            "    accuracy                         0.9556        90\n",
            "   macro avg     0.9592    0.9556    0.9555        90\n",
            "weighted avg     0.9592    0.9556    0.9555        90\n",
            "\n",
            "Acurácia (custom): 0.9556\n",
            "\n",
            "Comparação vs baseline: Δacc = +0.0556\n",
            "Resultados salvos em outputs/results.json\n"
          ]
        }
      ]
    },
    {
      "cell_type": "code",
      "source": [
        "# The main function is now called within the __name__ == '__main__' block in the previous cell.\n",
        "# This cell is no longer needed."
      ],
      "metadata": {
        "id": "oXo-VM4zqo6-"
      },
      "execution_count": null,
      "outputs": []
    }
  ]
}